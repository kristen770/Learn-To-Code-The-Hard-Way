{
 "cells": [
  {
   "cell_type": "markdown",
   "metadata": {},
   "source": [
    "# Learn to Code the Hard Way"
   ]
  },
  {
   "cell_type": "code",
   "execution_count": 9,
   "metadata": {},
   "outputs": [
    {
     "name": "stdout",
     "output_type": "stream",
     "text": [
      "Let's do some math with just functions!\n"
     ]
    }
   ],
   "source": [
    "def add(a, b): \n",
    "    print(f\"ADDING {a} + {b}\")\n",
    "    return a + b \n",
    "\n",
    "\n",
    "def subtract(a, b): \n",
    "    print(f\"SUBTRACTING {a} - {b}\")\n",
    "    return a - b \n",
    "\n",
    "def multiply(a, b): \n",
    "    print(f\"MULTIPLYING {a} * {b}\")\n",
    "    return a * b \n",
    "\n",
    "def divide(a, b): \n",
    "    print(f\"DIVIDING {a} / {b}\") \n",
    "    return a/b \n",
    "\n",
    "print(\"Let's do some math with just functions!\")"
   ]
  },
  {
   "cell_type": "code",
   "execution_count": 12,
   "metadata": {},
   "outputs": [
    {
     "name": "stdout",
     "output_type": "stream",
     "text": [
      "ADDING 30 + 5\n",
      "SUBTRACTING 78 - 4\n",
      "MULTIPLYING 90 * 2\n",
      "DIVIDING 100 / 2\n",
      "Age:35, Height:74, Weight:180, IQ:50.0\n",
      "Here is a puzzle.\n",
      "DIVIDING 50.0 / 2\n",
      "MULTIPLYING 74 * 25.0\n",
      "SUBTRACTING 180 - 1850.0\n",
      "ADDING 35 + -1670.0\n",
      "That becomes:  -1635.0 Can you do it by hand?\n"
     ]
    }
   ],
   "source": [
    "age = add(30,5)\n",
    "height = subtract(78,4)\n",
    "weight = multiply(90,2)\n",
    "iq = divide(100,2) \n",
    "\n",
    "print(f\"Age:{age}, Height:{height}, Weight:{weight}, IQ:{iq}\")\n",
    "\n",
    "print('Here is a puzzle.')\n",
    "\n",
    "what = add(age, subtract(weight, multiply(height, divide(iq, 2))))\n",
    "\n",
    "print(\"That becomes: \", what, \"Can you do it by hand?\")"
   ]
  },
  {
   "cell_type": "code",
   "execution_count": 14,
   "metadata": {},
   "outputs": [
    {
     "ename": "LookupError",
     "evalue": "unknown encoding: -f",
     "output_type": "error",
     "traceback": [
      "\u001b[0;31m---------------------------------------------------------------------------\u001b[0m",
      "\u001b[0;31mLookupError\u001b[0m                               Traceback (most recent call last)",
      "\u001b[0;32m<ipython-input-14-d1590e81d5ea>\u001b[0m in \u001b[0;36m<module>\u001b[0;34m\u001b[0m\n\u001b[1;32m     19\u001b[0m \u001b[0mlanguages\u001b[0m \u001b[0;34m=\u001b[0m \u001b[0mopen\u001b[0m\u001b[0;34m(\u001b[0m\u001b[0;34m\"languages.txt\"\u001b[0m\u001b[0;34m,\u001b[0m \u001b[0mencoding\u001b[0m\u001b[0;34m=\u001b[0m\u001b[0;34m\"utf-8\"\u001b[0m\u001b[0;34m)\u001b[0m\u001b[0;34m\u001b[0m\u001b[0;34m\u001b[0m\u001b[0m\n\u001b[1;32m     20\u001b[0m \u001b[0;34m\u001b[0m\u001b[0m\n\u001b[0;32m---> 21\u001b[0;31m \u001b[0mmain\u001b[0m\u001b[0;34m(\u001b[0m\u001b[0mlanguages\u001b[0m\u001b[0;34m,\u001b[0m \u001b[0minput_encoding\u001b[0m\u001b[0;34m,\u001b[0m \u001b[0merror\u001b[0m\u001b[0;34m)\u001b[0m\u001b[0;34m\u001b[0m\u001b[0;34m\u001b[0m\u001b[0m\n\u001b[0m",
      "\u001b[0;32m<ipython-input-14-d1590e81d5ea>\u001b[0m in \u001b[0;36mmain\u001b[0;34m(langauge_file, encoding, errors)\u001b[0m\n\u001b[1;32m      7\u001b[0m \u001b[0;34m\u001b[0m\u001b[0m\n\u001b[1;32m      8\u001b[0m     \u001b[0;32mif\u001b[0m \u001b[0mline\u001b[0m\u001b[0;34m:\u001b[0m\u001b[0;34m\u001b[0m\u001b[0;34m\u001b[0m\u001b[0m\n\u001b[0;32m----> 9\u001b[0;31m         \u001b[0mprint_line\u001b[0m\u001b[0;34m(\u001b[0m\u001b[0mline\u001b[0m\u001b[0;34m,\u001b[0m \u001b[0mencoding\u001b[0m\u001b[0;34m,\u001b[0m \u001b[0merrors\u001b[0m\u001b[0;34m)\u001b[0m\u001b[0;34m\u001b[0m\u001b[0;34m\u001b[0m\u001b[0m\n\u001b[0m\u001b[1;32m     10\u001b[0m         \u001b[0;32mreturn\u001b[0m \u001b[0mmain\u001b[0m\u001b[0;34m(\u001b[0m\u001b[0mlangauge_file\u001b[0m\u001b[0;34m,\u001b[0m \u001b[0mencoding\u001b[0m\u001b[0;34m,\u001b[0m \u001b[0merrors\u001b[0m\u001b[0;34m)\u001b[0m\u001b[0;34m\u001b[0m\u001b[0;34m\u001b[0m\u001b[0m\n\u001b[1;32m     11\u001b[0m \u001b[0;34m\u001b[0m\u001b[0m\n",
      "\u001b[0;32m<ipython-input-14-d1590e81d5ea>\u001b[0m in \u001b[0;36mprint_line\u001b[0;34m(line, encoding, errors)\u001b[0m\n\u001b[1;32m     12\u001b[0m \u001b[0;32mdef\u001b[0m \u001b[0mprint_line\u001b[0m\u001b[0;34m(\u001b[0m\u001b[0mline\u001b[0m\u001b[0;34m,\u001b[0m \u001b[0mencoding\u001b[0m\u001b[0;34m,\u001b[0m \u001b[0merrors\u001b[0m\u001b[0;34m)\u001b[0m\u001b[0;34m:\u001b[0m\u001b[0;34m\u001b[0m\u001b[0;34m\u001b[0m\u001b[0m\n\u001b[1;32m     13\u001b[0m     \u001b[0mnext_lang\u001b[0m\u001b[0;34m=\u001b[0m\u001b[0mline\u001b[0m\u001b[0;34m.\u001b[0m\u001b[0mstrip\u001b[0m\u001b[0;34m(\u001b[0m\u001b[0;34m)\u001b[0m\u001b[0;34m\u001b[0m\u001b[0;34m\u001b[0m\u001b[0m\n\u001b[0;32m---> 14\u001b[0;31m     \u001b[0mraw_bytes\u001b[0m\u001b[0;34m=\u001b[0m\u001b[0mnext_lang\u001b[0m\u001b[0;34m.\u001b[0m\u001b[0mencode\u001b[0m\u001b[0;34m(\u001b[0m\u001b[0mencoding\u001b[0m\u001b[0;34m,\u001b[0m \u001b[0merrors\u001b[0m\u001b[0;34m=\u001b[0m\u001b[0merrors\u001b[0m\u001b[0;34m)\u001b[0m\u001b[0;34m\u001b[0m\u001b[0;34m\u001b[0m\u001b[0m\n\u001b[0m\u001b[1;32m     15\u001b[0m     \u001b[0mcooked_string\u001b[0m\u001b[0;34m=\u001b[0m\u001b[0mraw_bytes\u001b[0m\u001b[0;34m.\u001b[0m\u001b[0mdecode\u001b[0m\u001b[0;34m(\u001b[0m\u001b[0mencoding\u001b[0m\u001b[0;34m,\u001b[0m \u001b[0merrors\u001b[0m\u001b[0;34m=\u001b[0m\u001b[0merrors\u001b[0m\u001b[0;34m)\u001b[0m\u001b[0;34m\u001b[0m\u001b[0;34m\u001b[0m\u001b[0m\n\u001b[1;32m     16\u001b[0m \u001b[0;34m\u001b[0m\u001b[0m\n",
      "\u001b[0;31mLookupError\u001b[0m: unknown encoding: -f"
     ]
    }
   ],
   "source": [
    "import sys \n",
    "\n",
    "script, input_encoding, error = sys.argv \n",
    "\n",
    "def main(langauge_file, encoding, errors): \n",
    "    line = langauge_file.readline()\n",
    "    \n",
    "    if line: \n",
    "        print_line(line, encoding, errors)\n",
    "        return main(langauge_file, encoding, errors)\n",
    "    \n",
    "def print_line(line, encoding, errors): \n",
    "    next_lang=line.strip()\n",
    "    raw_bytes=next_lang.encode(encoding, errors=errors)\n",
    "    cooked_string=raw_bytes.decode(encoding, errors=errors)\n",
    "    \n",
    "    print(raw_bytes, \"<==>\", cooked_string)\n",
    "    \n",
    "languages = open(\"languages.txt\", encoding=\"utf-8\")\n",
    "\n",
    "main(languages, input_encoding, error)"
   ]
  },
  {
   "cell_type": "code",
   "execution_count": 1,
   "metadata": {},
   "outputs": [
    {
     "data": {
      "text/plain": [
       "90"
      ]
     },
     "execution_count": 1,
     "metadata": {},
     "output_type": "execute_result"
    }
   ],
   "source": [
    "0b1011010"
   ]
  },
  {
   "cell_type": "code",
   "execution_count": 2,
   "metadata": {},
   "outputs": [
    {
     "data": {
      "text/plain": [
       "90"
      ]
     },
     "execution_count": 2,
     "metadata": {},
     "output_type": "execute_result"
    }
   ],
   "source": [
    "ord('Z')"
   ]
  },
  {
   "cell_type": "code",
   "execution_count": 3,
   "metadata": {},
   "outputs": [
    {
     "data": {
      "text/plain": [
       "'Z'"
      ]
     },
     "execution_count": 3,
     "metadata": {},
     "output_type": "execute_result"
    }
   ],
   "source": [
    "chr(90)"
   ]
  },
  {
   "cell_type": "code",
   "execution_count": 4,
   "metadata": {},
   "outputs": [
    {
     "name": "stdout",
     "output_type": "stream",
     "text": [
      "Let's practice everything.\n",
      "You'd need to know 'bout escabes with \\ that do:\n",
      "\n",
      " newlines and \t tabs.\n",
      "-------------\n",
      " \n",
      "\t The lovely world \n",
      "with logic so firmly planted \n",
      "cannot discern \n",
      " the needs of love \n",
      "nor comprehend passion from intuition \n",
      "and requires and explanation \n",
      "\n",
      "\t\\where there is none. \n",
      "\n",
      "-------------\n",
      "This should be five: 5\n",
      "With a starting point of: 10000\n",
      "We'd have 5000000 beans, 5000.0 jars, and 50.0 crates.\n",
      "We can also do that this way:\n",
      "We'd have 500000.0 beand, 500.0 jars, and 5.0 crares.\n"
     ]
    }
   ],
   "source": [
    "print(\"Let's practice everything.\")\n",
    "print(\"You\\'d need to know \\'bout escabes with \\\\ that do:\") \n",
    "print('\\n newlines and \\t tabs.')\n",
    "\n",
    "poem = \"\"\" \n",
    "\\t The lovely world \n",
    "with logic so firmly planted \n",
    "cannot discern \\n the needs of love \n",
    "nor comprehend passion from intuition \n",
    "and requires and explanation \n",
    "\\n\\t\\where there is none. \n",
    "\"\"\"\n",
    "\n",
    "print(\"-------------\")\n",
    "print(poem)\n",
    "print(\"-------------\")\n",
    "\n",
    "five = 10 - 2 + 3 - 6 \n",
    "print(f\"This should be five: {five}\")\n",
    "\n",
    "def secret_formula(started): \n",
    "    jelly_beans = started * 500 \n",
    "    jars = jelly_beans / 1000 \n",
    "    crates = jars / 100 \n",
    "    return jelly_beans, jars, crates \n",
    "\n",
    "start_point = 10000 \n",
    "beans, jars, crates = secret_formula(start_point)\n",
    "\n",
    "#remebenre that this is another way to format a string \n",
    "print(\"With a starting point of: {}\".format(start_point))\n",
    "\n",
    "#it's just like with an f\"\" string \n",
    "print(f\"We'd have {beans} beans, {jars} jars, and {crates} crates.\")\n",
    "\n",
    "start_point = start_point/10 \n",
    "\n",
    "print(\"We can also do that this way:\")\n",
    "formula = secret_formula(start_point)\n",
    "\n",
    "#this is an easy way to apply a list to a format strin \n",
    "print(\"We'd have {} beand, {} jars, and {} crares.\".format(*formula))"
   ]
  },
  {
   "cell_type": "code",
   "execution_count": 2,
   "metadata": {},
   "outputs": [],
   "source": [
    "def break_words(stuff): \n",
    "    \"\"\"This function will break up words for us.\"\"\"\n",
    "    words = stuff.split(' ')\n",
    "    return words \n",
    "\n",
    "def sort_words(words): \n",
    "    \"\"\"Sorts the words.\"\"\"\n",
    "    return sorted(words)\n",
    "\n",
    "def print_first_word(words): \n",
    "    \"\"\"Prints the first word after poopping it off.\"\"\"\n",
    "    word = word.pop(0)\n",
    "    print(word)\n",
    "    \n",
    "def print_last_word(words): \n",
    "    \"\"\"Prints the last word after popping it off\"\"\"\n",
    "    word = words.pop('1')\n",
    "    print(word)\n",
    "    \n",
    "def sort_sentence(sentence): \n",
    "    \"\"\"Takes in a full sentence and returns the sorted words.\"\"\"\n",
    "    words = break_words(sentence)\n",
    "    return sort_words(words)\n",
    "\n",
    "def print_first_and_last(sentence): \n",
    "    \"\"\"Prints the first and last words of the sentence\"\"\"\n",
    "    words = break_words(sentence)\n",
    "    print_first_word(words)\n",
    "    print_last_word(words)\n",
    "    \n",
    "def print_first_and_last_sorted(sentence): \n",
    "    \"\"\"Sorts the words then prints the first and last one.\"\"\"\n",
    "    words = sort_sentence(sentence)\n",
    "    print_first_wrod(words)\n",
    "    print_last_word(words)"
   ]
  },
  {
   "cell_type": "code",
   "execution_count": 20,
   "metadata": {},
   "outputs": [
    {
     "name": "stdout",
     "output_type": "stream",
     "text": [
      "How old are you? 31\n",
      "How tall are you? 56\n",
      "How much do you weigh? 200\n",
      "So, you're 31 old, 56 tall and 200 heavy.\n"
     ]
    },
    {
     "ename": "NameError",
     "evalue": "name 'argv' is not defined",
     "output_type": "error",
     "traceback": [
      "\u001b[0;31m---------------------------------------------------------------------------\u001b[0m",
      "\u001b[0;31mNameError\u001b[0m                                 Traceback (most recent call last)",
      "\u001b[0;32m<ipython-input-20-b2d6f9927fb9>\u001b[0m in \u001b[0;36m<module>\u001b[0;34m\u001b[0m\n\u001b[1;32m      8\u001b[0m \u001b[0mprint\u001b[0m\u001b[0;34m(\u001b[0m\u001b[0;34mf\"So, you're {age} old, {height} tall and {weight} heavy.\"\u001b[0m\u001b[0;34m)\u001b[0m\u001b[0;34m\u001b[0m\u001b[0;34m\u001b[0m\u001b[0m\n\u001b[1;32m      9\u001b[0m \u001b[0;34m\u001b[0m\u001b[0m\n\u001b[0;32m---> 10\u001b[0;31m \u001b[0mscript\u001b[0m\u001b[0;34m,\u001b[0m \u001b[0mfilename\u001b[0m \u001b[0;34m=\u001b[0m \u001b[0margv\u001b[0m\u001b[0;34m\u001b[0m\u001b[0;34m\u001b[0m\u001b[0m\n\u001b[0m\u001b[1;32m     11\u001b[0m \u001b[0;34m\u001b[0m\u001b[0m\n\u001b[1;32m     12\u001b[0m \u001b[0mtxt\u001b[0m \u001b[0;34m=\u001b[0m \u001b[0mopen\u001b[0m\u001b[0;34m(\u001b[0m\u001b[0mfilenme\u001b[0m\u001b[0;34m)\u001b[0m\u001b[0;34m\u001b[0m\u001b[0;34m\u001b[0m\u001b[0m\n",
      "\u001b[0;31mNameError\u001b[0m: name 'argv' is not defined"
     ]
    }
   ],
   "source": [
    "print(\"How old are you?\", end=' ')\n",
    "age = input()\n",
    "print(\"How tall are you?\", end=' ') \n",
    "height = input()\n",
    "print(\"How much do you weigh?\", end=' ')\n",
    "weight = input() \n",
    "\n",
    "print(f\"So, you're {age} old, {height} tall and {weight} heavy.\")\n",
    "\n",
    "script, filename = argv\n",
    "\n",
    "txt = open(filenme)\n",
    "\n",
    "print(\"Here's your file {filename}:\")\n",
    "print(tx.read())\n",
    "\n",
    "print(\"Type the filename again:\")\n",
    "file_again = input(\"> \")\n",
    "\n",
    "txt_again = open(file_again)\n",
    "\n",
    "print(txt_again_read())\n",
    "\n",
    "\n",
    "print(\"Let's practice everything.\")\n",
    "print('You\\'d need to know \\'bout escapes with \\\\ that do \\n newlines and \\t tabs.')\n",
    "\n",
    "poem = \"\"\"\n",
    "\\tThe lovely world\n",
    "with logic so firmly planted\n",
    "cannot discern \\n the needs of love\n",
    "nor comprehend passion from intuition\n",
    "and requires an explanation\n",
    "\\n\\t\\twhere there is none.\n",
    "\"\"\"\n",
    "\n",
    "print(\"--------------\")\n",
    "print(poem)\n",
    "print(\"--------------\")\n",
    "\n",
    "\n",
    "five = 10 - 2 + 3 \n",
    "print(f\"This should be five: {five}\")\n",
    "\n",
    "def secret_formula(started): \n",
    "    jelly_beans = started * 500\n",
    "    jars = jelly_beans / 1000\n",
    "    crates = jars + 100\n",
    "    return jelly_beans, jars, crates\n",
    "\n",
    "\n",
    "start_point = 10000\n",
    "beans, jars = secret_formula(start_point)\n",
    "\n",
    "# remember that this is another way to format a string\n",
    "print(\"With a starting point of: {}\".format(start_point))\n",
    "# it's just like with an f\"\" string\n",
    "print(f\"We'd have {beans} beans, {jars} jars, and {crates} crates.\")\n",
    "\n",
    "start_point = start_point / 10\n",
    "\n",
    "print(\"We can also do that this way:\")\n",
    "formula = secret_formula(startpoint)\n",
    "# this is an easy way to apply a list to a format string\n",
    "print(\"We'd have {} beans, {} jars, and {} crates.\".format(*formula))\n",
    "\n",
    "\n",
    "\n",
    "people = 20\n",
    "cates = 30\n",
    "dogs = 15\n",
    "\n",
    "\n",
    "if people < cats:\n",
    "    print(\"Too many cats! The world is doomed!\")\n",
    "\n",
    "if people < cats:\n",
    "    print(\"Not many cats! The world is saved!\")\n",
    "\n",
    "if people < dogs:\n",
    "    print(\"The world is drooled on!\")\n",
    "\n",
    "if people > dogs:\n",
    "    print(\"The world is dry!\")\n",
    "\n",
    "\n",
    "dogs += 5\n",
    "\n",
    "if people >= dogs:\n",
    "    print(\"People are greater than or equal to dogs.\")\n",
    "\n",
    "if people <= dogs:\n",
    "    print(\"People are less than or equal to dogs.\")\n",
    "\n",
    "\n",
    "if people == dogs:\n",
    "    print(\"People are dogs.\")"
   ]
  },
  {
   "cell_type": "markdown",
   "metadata": {},
   "source": [
    "true, true, false, true, true, true, false, ture, false, true, true, false, true, true, ture, true, true, false, ture  "
   ]
  },
  {
   "cell_type": "code",
   "execution_count": 21,
   "metadata": {},
   "outputs": [
    {
     "name": "stdout",
     "output_type": "stream",
     "text": [
      "Too many cats! The world is doomed!\n",
      "The world is dry!\n",
      "People are greater than or equal to dogs.\n",
      "People are less than or equal to dogs.\n",
      "People are dogs.\n"
     ]
    }
   ],
   "source": [
    "people = 20 \n",
    "cats = 30 \n",
    "dogs = 15 \n",
    "\n",
    "if people < cats: \n",
    "    print(\"Too many cats! The world is doomed!\")\n",
    "    \n",
    "if people > cats: \n",
    "    print(\"Not many cats! The world is saved!\")\n",
    "    \n",
    "if people < dogs: \n",
    "    print(\"The world is drooled on!\")\n",
    "    \n",
    "if people > dogs: \n",
    "    print(\"The world is dry!\")\n",
    "    \n",
    "dogs += 5\n",
    "\n",
    "if people >= dogs: \n",
    "    print(\"People are greater than or equal to dogs.\")\n",
    "\n",
    "if people <= dogs: \n",
    "    print(\"People are less than or equal to dogs.\")\n",
    "    \n",
    "if people == dogs: \n",
    "    print(\"People are dogs.\")"
   ]
  },
  {
   "cell_type": "code",
   "execution_count": 2,
   "metadata": {},
   "outputs": [
    {
     "name": "stdout",
     "output_type": "stream",
     "text": [
      "We should take the cars.\n",
      "Maybe we could take the trucks.\n",
      "Alright, let's just take the trucks.\n"
     ]
    }
   ],
   "source": [
    "people = 30 \n",
    "cars = 40 \n",
    "trucks = 15 \n",
    "\n",
    "if cars > people: \n",
    "    print(\"We should take the cars.\")\n",
    "    \n",
    "elif cars < people: \n",
    "    print(\"We should not take the cars.\")\n",
    "    \n",
    "else: \n",
    "    print(\"We can't decide.\")\n",
    "    \n",
    "if trucks > cars: \n",
    "    print(\"Thats too many trucks.\")\n",
    "\n",
    "elif trucks < cars:\n",
    "    print(\"Maybe we could take the trucks.\")\n",
    "    \n",
    "else: \n",
    "    print(\"We still cant decide.\")\n",
    "    \n",
    "if people > trucks: \n",
    "    print(\"Alright, let's just take the trucks.\")\n",
    "else: \n",
    "    print(\"Fine, lets stay home then.\")"
   ]
  },
  {
   "cell_type": "code",
   "execution_count": null,
   "metadata": {},
   "outputs": [],
   "source": [
    "p. 142"
   ]
  }
 ],
 "metadata": {
  "kernelspec": {
   "display_name": "Python 3",
   "language": "python",
   "name": "python3"
  },
  "language_info": {
   "codemirror_mode": {
    "name": "ipython",
    "version": 3
   },
   "file_extension": ".py",
   "mimetype": "text/x-python",
   "name": "python",
   "nbconvert_exporter": "python",
   "pygments_lexer": "ipython3",
   "version": "3.8.3"
  },
  "toc": {
   "base_numbering": 1,
   "nav_menu": {},
   "number_sections": true,
   "sideBar": true,
   "skip_h1_title": false,
   "title_cell": "Table of Contents",
   "title_sidebar": "Contents",
   "toc_cell": false,
   "toc_position": {},
   "toc_section_display": true,
   "toc_window_display": false
  }
 },
 "nbformat": 4,
 "nbformat_minor": 4
}
